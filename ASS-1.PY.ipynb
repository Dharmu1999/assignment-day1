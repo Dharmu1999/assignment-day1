{
 "cells": [
  {
   "cell_type": "markdown",
   "id": "fa264eb3-5261-4c7c-a86e-c2bb9fc10124",
   "metadata": {},
   "source": [
    "## Q.1 Who developed python programming language"
   ]
  },
  {
   "cell_type": "markdown",
   "id": "ff61ac82-c300-4e4c-822d-95a618aa2820",
   "metadata": {},
   "source": [
    "(Python was created by Guido van Rossum in the late  while he was working at the National Research Institute for Mathematics and Computer Science (CWI), in the Netherland"
   ]
  },
  {
   "cell_type": "markdown",
   "id": "4d04861a-fc13-404e-b6b4-d3ec69a55a5e",
   "metadata": {},
   "source": [
    "## Q.2 Which type of programming does python support?\n"
   ]
  },
  {
   "cell_type": "markdown",
   "id": "7348ae75-05ff-4b09-b3ac-88f250855cdd",
   "metadata": {},
   "source": [
    "##ANS=Python supports multiple programming paradigms, including procedural, object-oriented, and functional programming. It also has support for aspect-oriented programming and meta-programming through decorators and metaclasses. Additionally, Python has a dynamic type system and automatic memory management, making it well-suited for rapid prototyping, scripting, and data analysis. Its versatility and ease of use have made it a popular choice for a wide range of applications, from web development to scientific computing to artificial intelligence and machine learning.\n",
    "\n",
    "\n",
    "\n"
   ]
  },
  {
   "cell_type": "markdown",
   "id": "9787ba6b-5f69-43e8-b50f-160d3877c4fe",
   "metadata": {},
   "source": [
    "## Q.3 IS python case sensitive when dealing with identifier?"
   ]
  },
  {
   "cell_type": "markdown",
   "id": "aee3db25-ba65-4ec8-8019-438c49cd85cc",
   "metadata": {},
   "source": [
    "ANS=Yes, Python is a case-sensitive programming language when it comes to identifiers, which are names assigned to variables, functions, classes, and other objects in Python. This means that uppercase and lowercase letters are treated as distinct and separate characters. For example, the variable name \"myVariable\" and \"myvariable\" would be treated as two different identifiers in Python, and attempting to reference one when the other was intended would result in an error. It's important to be consistent with your naming conventions to avoid confusion and errors when programming in Python.\n",
    "\n",
    "\n",
    "\n"
   ]
  },
  {
   "cell_type": "markdown",
   "id": "099784cb-55a9-400a-b133-ad6446f6e50e",
   "metadata": {},
   "source": [
    "## Q.4 WHAT IS THE CORRECT EXTENSION OF THE PYTHON FILE?"
   ]
  },
  {
   "cell_type": "markdown",
   "id": "472abaec-7757-4eef-91a6-db56ea1e6c49",
   "metadata": {},
   "source": [
    "ANS=The correct extension for a Python file is \".py\". When you save a Python file, you should give it a name that reflects its purpose and end the name with the \".py\" extension. For example, if you were writing a Python program to calculate the area of a circle, you might name the file \"circle_area.py\". This extension tells the operating system and Python interpreter that the file is a Python source code file and should be treated accordingly.\n",
    "\n",
    "\n",
    "\n"
   ]
  },
  {
   "cell_type": "markdown",
   "id": "d3e06060-43a9-428a-9eed-a14bb0124737",
   "metadata": {},
   "source": [
    "## Q.5 Is python code compiled or interpreted?"
   ]
  },
  {
   "cell_type": "markdown",
   "id": "0083ebae-0d7e-4d8b-be98-fc194a504270",
   "metadata": {},
   "source": [
    "ans=Python code is interpreted, which means that the code is executed line by line by the Python interpreter without the need for a separate compilation step. When you run a Python program, the interpreter reads the source code and translates it into byte code, which is then executed by the interpreter's virtual machine. This approach allows for a more interactive and exploratory programming experience, as developers can test and modify code quickly without having to wait for a compilation step. However, this also means that Python code can be slower to execute than compiled languages like C or Java."
   ]
  },
  {
   "cell_type": "markdown",
   "id": "5dd6864b-997f-4464-a322-a818de6a7706",
   "metadata": {},
   "source": [
    "## Q.6 Name a few block or code used to define in python language?"
   ]
  },
  {
   "cell_type": "markdown",
   "id": "7391959c-b654-4ef3-b720-1c183a2d82ca",
   "metadata": {},
   "source": [
    "ANS=In Python, code blocks are defined by their indentation level, rather than explicit block delimiters like curly braces ({ }) as in some other programming languages. Here are a few examples of code blocks in Python:"
   ]
  },
  {
   "cell_type": "markdown",
   "id": "75c4466e-bf33-49c2-88da-828e6cf1aca4",
   "metadata": {},
   "source": [
    "1.Function Definition Block: A block of code that defines a function in Python, which begins with the \"def\" keyword followed by the function name and its parameters. The code block for the function starts on the next line and is indented by four spaces or a tab.\n"
   ]
  },
  {
   "cell_type": "code",
   "execution_count": 4,
   "id": "e04ad0da-6c82-490d-a739-7ace595c5443",
   "metadata": {},
   "outputs": [],
   "source": [
    "# EXAMPLE\n",
    "def add_numbers(x, y):\n",
    "    result = x + y\n",
    "    return result"
   ]
  },
  {
   "cell_type": "markdown",
   "id": "04e370ac-d5e3-4f86-9c6f-2bd87a9819eb",
   "metadata": {},
   "source": [
    "2.Conditional Block: A block of code that executes only if a certain condition is met. In Python, conditional blocks are created using the \"if\", \"elif\" (short for \"else if\"), and \"else\" keywords. The code block for a conditional statement is also indented by four spaces or a tab."
   ]
  },
  {
   "cell_type": "code",
   "execution_count": 8,
   "id": "fa0ee3da-b1d2-443e-9c11-d3530320e2bf",
   "metadata": {},
   "outputs": [
    {
     "name": "stdout",
     "output_type": "stream",
     "text": [
      "Positive number\n"
     ]
    }
   ],
   "source": [
    "# example\n",
    "if 10 < 0:\n",
    "    print(\"Negative number\")\n",
    "elif 10 == 0:\n",
    "    print(\"Zero\")\n",
    "else:\n",
    "    print(\"Positive number\")\n"
   ]
  },
  {
   "cell_type": "markdown",
   "id": "799e7f3a-f091-447a-b6c0-93748357ff35",
   "metadata": {},
   "source": [
    "Loop Block: A block of code that executes repeatedly until a certain condition is met. In Python, loops can be created using the \"for\" and \"while\" keywords. The code block for a loop is also indented by four spaces or a tab.\n"
   ]
  },
  {
   "cell_type": "code",
   "execution_count": 13,
   "id": "c18d5fda-ed07-4b37-8fe5-ad75a60ed07d",
   "metadata": {},
   "outputs": [
    {
     "name": "stdout",
     "output_type": "stream",
     "text": [
      "0\n",
      "1\n",
      "2\n",
      "3\n",
      "4\n",
      "5\n",
      "6\n",
      "7\n",
      "8\n",
      "9\n"
     ]
    }
   ],
   "source": [
    "for i in range(10):\n",
    "    print(i)\n",
    "\n",
    "while 10 < 10:\n",
    "    X = X + 1\n",
    "    print(X)\n"
   ]
  },
  {
   "cell_type": "markdown",
   "id": "45e037d9-91d6-489f-b0d6-7fb9ccfb2e4a",
   "metadata": {},
   "source": [
    "# Q.7 State a character used to give a single-line comments in python?"
   ]
  },
  {
   "cell_type": "markdown",
   "id": "7336d6dd-5be7-44af-b7ba-3c4a39518a83",
   "metadata": {},
   "source": [
    "ANS=In Python, the hash symbol (#) is used to give a single-line comment. Any text on the same line that comes after the hash symbol is ignored by the Python interpreter. Single-line comments are often used to provide explanations or documentation for the code, or to temporarily disable a line of code during testing or debugging. Here's an example:\n"
   ]
  },
  {
   "cell_type": "code",
   "execution_count": 14,
   "id": "aafaa2c2-f002-4f8b-bf4c-17b6aacd6b6f",
   "metadata": {},
   "outputs": [
    {
     "name": "stdout",
     "output_type": "stream",
     "text": [
      "Hello, world!\n"
     ]
    }
   ],
   "source": [
    "# This is a single-line comment in Python\n",
    "\n",
    "print(\"Hello, world!\")  # This line prints a message to the console\n"
   ]
  },
  {
   "cell_type": "code",
   "execution_count": 15,
   "id": "b5f83e08-6bde-4746-8687-8bdc870dc2d4",
   "metadata": {},
   "outputs": [
    {
     "name": "stdout",
     "output_type": "stream",
     "text": [
      "Hello, world!\n"
     ]
    }
   ],
   "source": [
    "# This is a single-line comment in Python\n",
    "\n",
    "print(\"Hello, world!\")  # This line prints a message to the console\n"
   ]
  },
  {
   "cell_type": "markdown",
   "id": "8005b803-9822-42df-8668-f65f93bb34a5",
   "metadata": {},
   "source": [
    "## Q.8 Mention function which can help us to find the version the python that we are currently working on?"
   ]
  },
  {
   "cell_type": "markdown",
   "id": "4835a981-0246-4943-9609-a37ed104ba4e",
   "metadata": {},
   "source": [
    "ANS=Yes, in Python, you can use the \"sys\" module to get the version of Python that you are currently working on. The \"sys\" module is a built-in module that provides access to some variables and functions that interact with the Python interpreter.\n",
    "\n",
    "To get the version of Python that you are currently working on, you can use the \"sys.version\" variable. Here's an example"
   ]
  },
  {
   "cell_type": "code",
   "execution_count": 16,
   "id": "005d4356-09d2-44cc-8fb1-f6f6c8e26738",
   "metadata": {},
   "outputs": [
    {
     "name": "stdout",
     "output_type": "stream",
     "text": [
      "Python version\n",
      "3.10.8 | packaged by conda-forge | (main, Nov 22 2022, 08:26:04) [GCC 10.4.0]\n"
     ]
    }
   ],
   "source": [
    "import sys\n",
    "\n",
    "print(\"Python version\")\n",
    "print(sys.version)\n"
   ]
  },
  {
   "cell_type": "code",
   "execution_count": 19,
   "id": "c5825f64-cd3f-41ff-952b-bd40570703cf",
   "metadata": {},
   "outputs": [
    {
     "ename": "SyntaxError",
     "evalue": "invalid syntax (783598437.py, line 1)",
     "output_type": "error",
     "traceback": [
      "\u001b[0;36m  Cell \u001b[0;32mIn[19], line 1\u001b[0;36m\u001b[0m\n\u001b[0;31m    Python version()\u001b[0m\n\u001b[0m           ^\u001b[0m\n\u001b[0;31mSyntaxError\u001b[0m\u001b[0;31m:\u001b[0m invalid syntax\n"
     ]
    }
   ],
   "source": [
    "Python version()\n",
    "3.9.2 (default, Feb 24 2021, 13:46:16)\n",
    "[GCC 10.2.0]\n"
   ]
  },
  {
   "cell_type": "markdown",
   "id": "9836cecb-7381-45dc-91e2-0cfa508d32cd",
   "metadata": {},
   "source": [
    "# Q.9 Python supports the creation of anonymous functions at run time using a construct called?"
   ]
  },
  {
   "cell_type": "markdown",
   "id": "842c4d6c-9c13-40b3-9139-71ada6d51629",
   "metadata": {},
   "source": [
    "ANS=Python supports the creation of anonymous functions at run time using a construct called \"lambda\" functions.\n",
    "\n",
    "Lambda functions are small, anonymous functions that can have any number of arguments, but can only have one expression. They are defined using the keyword \"lambda\" followed by the function's arguments and a colon, and then the expression to be evaluated.\n",
    "\n",
    "Lambda functions are often used in conjunction with other built-in functions like map(), filter(), and reduce(), as well as with sorting and searching algorithms, where a function needs to be passed as an argument.\n",
    "\n",
    "Here's an example of a simple lambda function that takes two arguments and returns their sum:\n",
    "\n",
    "python"
   ]
  },
  {
   "cell_type": "code",
   "execution_count": 1,
   "id": "376bdde7-6774-4d50-ac35-dfb110e4d819",
   "metadata": {},
   "outputs": [
    {
     "name": "stdout",
     "output_type": "stream",
     "text": [
      "5\n"
     ]
    }
   ],
   "source": [
    "sum = lambda x, y: x + y\n",
    "print(sum(2, 3))   \n"
   ]
  },
  {
   "cell_type": "markdown",
   "id": "ad12502d-e1b3-43b0-a3e8-acdea24b0da3",
   "metadata": {},
   "source": [
    "## Q.10 What does pip stand for python?"
   ]
  },
  {
   "cell_type": "markdown",
   "id": "ea55bda4-e439-4d14-8a9f-3444b715c013",
   "metadata": {},
   "source": [
    "ANS=\"Pip\" stands for \"Pip Installs Packages\". It is a package manager for Python that allows you to easily install, manage, and uninstall Python packages and their dependencies.\n",
    "\n"
   ]
  },
  {
   "cell_type": "markdown",
   "id": "f38cd817-7ca6-4eae-8ecf-e09dc460d87b",
   "metadata": {},
   "source": [
    "## Q.11 Mention a few built-in function in python?"
   ]
  },
  {
   "cell_type": "code",
   "execution_count": 2,
   "id": "ee81af67-ea0a-434d-9c17-20c75d852c78",
   "metadata": {},
   "outputs": [
    {
     "ename": "SyntaxError",
     "evalue": "invalid decimal literal (2886100999.py, line 3)",
     "output_type": "error",
     "traceback": [
      "\u001b[0;36m  Cell \u001b[0;32mIn[2], line 3\u001b[0;36m\u001b[0m\n\u001b[0;31m    1.print() - Used to display output to the console\u001b[0m\n\u001b[0m     ^\u001b[0m\n\u001b[0;31mSyntaxError\u001b[0m\u001b[0;31m:\u001b[0m invalid decimal literal\n"
     ]
    }
   ],
   "source": [
    "#ANS=Python has a rich set of built-in functions that can be used directly without the need for any import statements. Here are a few examples of some commonly used built-in functions in Python:\n",
    "\n",
    "1.print() - Used to display output to the console\n",
    "2.input() - Used to accept user input from the console\n",
    "3.len() - Used to find the length of a string, list, tuple, or dictionary\n",
    "4.range() - Used to generate a sequence of numbers\n",
    "5.type() - Used to find the data type of a variable or value\n",
    "6.int(), float(), str(), bool() - Used to convert values to different data types\n",
    "7.max(), min() - Used to find the maximum or minimum value in a list or tuple\n",
    "8.sum() - Used to find the sum of values in a list or tuple\n",
    "9.sorted() - Used to sort a list or tuple in ascending order\n",
    "10.zip() - Used to combine multiple lists or tuples into a single list of tuples#"
   ]
  },
  {
   "cell_type": "markdown",
   "id": "817af99a-34c1-4c79-b614-de937f31cfc5",
   "metadata": {},
   "source": [
    "## Q.12 What is the maximum possible length of an identifier in python?"
   ]
  },
  {
   "cell_type": "markdown",
   "id": "6c4230d5-9a20-4688-aa7a-5d9f14a686eb",
   "metadata": {},
   "source": [
    "ANS=In Python, the maximum possible length of an identifier (variable name, function name, class name, etc.) is not explicitly defined. However, the PEP 8 style guide for Python recommends that identifiers should not exceed 79 characters in length.\n",
    "\n",
    "There is no practical limit to the length of an identifier in Python, but it is important to keep the names concise and readable for the sake of maintainability and readability. Identifiers that are too long or too cryptic can make the code difficult to read and understand.\n",
    "\n",
    "It is also worth noting that Python allows identifiers to contain letters, digits, and underscores, and they must start with a letter or underscore (but not a digit). Identifiers are case-sensitive in Python, which means that \"foo\" and \"Foo\" are considered to be different identifiers."
   ]
  },
  {
   "cell_type": "markdown",
   "id": "88df1d89-b2ee-43e5-a4ea-a51de8aab252",
   "metadata": {},
   "source": [
    "## Q.13 WHAT are the benefits of using python?"
   ]
  },
  {
   "cell_type": "markdown",
   "id": "ffceb4ff-ee50-499b-b090-1a4a891bf33a",
   "metadata": {},
   "source": [
    "There are numerous benefits of using Python as a programming language. Some of the key benefits are:\n",
    "\n",
    "Easy to Learn and Use: Python has a simple and easy-to-learn syntax that emphasizes readability and reduces the cost of program maintenance. Its code is easy to write, read, and debug, which makes it an ideal language for beginners and experienced programmers alike.\n",
    "\n",
    "Large Standard Library: Python comes with a large standard library that provides a wide range of functionalities, from web development to data analysis and scientific computing. This makes it easy to get started with different programming tasks and reduces the need to write code from scratch.\n",
    "\n",
    "Cross-Platform Compatibility: Python code can run on multiple platforms including Windows, Linux, and Mac OS X. This makes it easy to write code that can be deployed across different operating systems, without any changes in the code.\n",
    "\n",
    "Strong Community Support: Python has a large and active community of developers, which means that there are many resources available for learning, troubleshooting, and collaboration. There are many online forums, tutorials, and documentation available, as well as third-party libraries and tools that can be used to extend Python's functionality.\n",
    "\n",
    "Versatility: Python can be used for a wide range of applications, including web development, scientific computing, data analysis, artificial intelligence, machine learning, and automation. Its versatility and flexibility make it a popular choice for different types of projects and applications.\n",
    "\n",
    "Productivity: Python's simplicity and ease-of-use can result in improved productivity for developers, allowing them to write code quickly and efficiently. This can lead to faster development times and a more rapid turnaround for projects."
   ]
  },
  {
   "cell_type": "markdown",
   "id": "d56f9b9c-808e-4909-b8d4-ca16e7b6c467",
   "metadata": {},
   "source": [
    "## Q.14 How is memory is manage in python?"
   ]
  },
  {
   "cell_type": "markdown",
   "id": "507b754f-e116-4cdf-999b-5fde439316c9",
   "metadata": {},
   "source": [
    "ANS=In Python, memory management is handled automatically by the Python interpreter using a technique called \"garbage collection\". This means that the interpreter keeps track of all the objects created during the program's execution and removes any objects that are no longer being used or referenced by any part of the program.\n",
    "\n",
    "The garbage collector in Python is responsible for reclaiming memory that is no longer being used by the program. When an object is created in Python, it is allocated a certain amount of memory. When the object is no longer needed, the memory it occupies is returned to the system and made available for future use.\n",
    "\n",
    "Python also uses a concept called \"reference counting\" to manage memory. This involves keeping track of the number of references to an object in the program. When the reference count drops to zero, the object is no longer being used and can be removed from memory.\n",
    "\n",
    "To optimize memory usage, Python uses a number of techniques such as object sharing, caching, and recycling. For example, when a new object is created that is identical to an existing object, Python will simply create a reference to the existing object instead of creating a new object in memory. This helps to reduce memory usage and improve performance.\n",
    "\n",
    "Overall, Python's memory management system is designed to be automatic and efficient, which makes it easy for developers to focus on writing code without worrying too much about memory management. However, it is still important to be aware of memory usage and to avoid creating unnecessary objects or retaining references to unused objects, which can lead to memory leaks and other issues.\n",
    "\n"
   ]
  },
  {
   "cell_type": "markdown",
   "id": "780dad55-039d-46b1-ae2b-fa2f856add9d",
   "metadata": {},
   "source": [
    "## Q.15 HOW to install python on windows and set path variables?"
   ]
  },
  {
   "cell_type": "markdown",
   "id": "c2830cda-582e-4907-92e3-0f3fb075d6d0",
   "metadata": {},
   "source": [
    "ANS= Here are the steps to install Python on Windows and set path variables:\n",
    "\n",
    "##Download the latest version of Python from the official website (https://www.python.org/downloads/windows/) and run the installer.\n",
    "\n",
    "Follow the installation wizard and select the installation location for Python.\n",
    "\n",
    "On the \"Customize Python\" page of the installation wizard, select the option \"Add Python to PATH\". This will add Python to the system's environment variables, allowing you to run Python from any location on your computer.\n",
    "\n",
    "Complete the installation by following the prompts in the wizard.\n",
    "\n",
    "To verify that Python is installed correctly, open the command prompt by pressing \"Windows + R\" and typing \"cmd\" in the \"Run\" dialog box. Then type \"python --version\" in the command prompt and press enter. This should display the version number of Python installed on your computer.\n",
    "\n",
    "If Python is not recognized in the command prompt, you need to add Python's path to the system environment variables manually.\n",
    "\n",
    "To do this, right-click on \"This PC\" on your desktop and select \"Properties\". Then click on \"Advanced system settings\" on the left-hand side of the window.\n",
    "\n",
    "In the \"System Properties\" window, click on the \"Environment Variables\" button.\n",
    "\n",
    "In the \"Environment Variables\" window, locate the \"Path\" variable under \"System Variables\" and click on the \"Edit\" button.\n",
    "\n",
    "Click on the \"New\" button and add the path to the folder where Python is installed. For example, if Python is installed in \"C:\\Python39\", add this path to the list of paths.\n",
    "\n",
    "Click \"OK\" to save the changes and close all windows.\n",
    "\n",
    "Open a new command prompt window and type \"python --version\" to verify that Python is recognized.\n",
    "\n",
    "That's it! You have successfully installed Python on Windows and set the path variables.\n",
    "\n",
    "\n",
    "\n",
    "\n",
    "\n"
   ]
  },
  {
   "cell_type": "markdown",
   "id": "c98131ff-da1a-4c98-a886-8ac617af01c2",
   "metadata": {},
   "source": [
    "## Q16 Is identation required in python?"
   ]
  },
  {
   "cell_type": "markdown",
   "id": "51ee8a4a-3565-469a-a6eb-7e73c29eca22",
   "metadata": {},
   "source": [
    "ANS= Yes, indentation is required in Python. In fact, indentation is a fundamental part of Python's syntax and is used to group statements together. In Python, code blocks are defined by their indentation level, rather than by braces or keywords like other programming languages.\n",
    "\n",
    "The standard convention in Python is to use four spaces for each level of indentation. This makes the code easier to read and understand, and helps to avoid common errors that can occur due to incorrect indentation.\n",
    " a simple Python program that uses indentation to group statements together:"
   ]
  },
  {
   "cell_type": "code",
   "execution_count": 6,
   "id": "5f82b100-c5cc-40b1-91c9-88b0ab823e5f",
   "metadata": {},
   "outputs": [
    {
     "name": "stdout",
     "output_type": "stream",
     "text": [
      "x is positive\n"
     ]
    }
   ],
   "source": [
    "if 2 > 0:\n",
    "    print(\"x is positive\")\n",
    "else:\n",
    "    print(\"x is zero or negative\")\n"
   ]
  },
  {
   "cell_type": "code",
   "execution_count": null,
   "id": "2e1b0bc4-fe1d-42b9-ac36-d357b475ee86",
   "metadata": {},
   "outputs": [],
   "source": []
  }
 ],
 "metadata": {
  "kernelspec": {
   "display_name": "Python 3 (ipykernel)",
   "language": "python",
   "name": "python3"
  },
  "language_info": {
   "codemirror_mode": {
    "name": "ipython",
    "version": 3
   },
   "file_extension": ".py",
   "mimetype": "text/x-python",
   "name": "python",
   "nbconvert_exporter": "python",
   "pygments_lexer": "ipython3",
   "version": "3.10.8"
  }
 },
 "nbformat": 4,
 "nbformat_minor": 5
}
